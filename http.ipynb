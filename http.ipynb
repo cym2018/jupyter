{
 "cells": [
  {
   "cell_type": "code",
   "execution_count": null,
   "id": "0cfe539d-19b6-46e5-beb9-e0f1c735019f",
   "metadata": {},
   "outputs": [
    {
     "name": "stdout",
     "output_type": "stream",
     "text": [
      "http://localhost:8005?a=1&b=2\n",
      "args:{\"a\": \"1\", \"b\": \"2\"}\n"
     ]
    },
    {
     "name": "stderr",
     "output_type": "stream",
     "text": [
      "127.0.0.1 - - [26/Dec/2023 09:36:11] \"GET /?a=1&b=2 HTTP/1.1\" 200 -\n",
      "127.0.0.1 - - [26/Dec/2023 09:36:11] \"GET /favicon.ico HTTP/1.1\" 200 -\n"
     ]
    }
   ],
   "source": [
    "import http.server\n",
    "import socketserver\n",
    "from http import HTTPStatus\n",
    "from json import dumps\n",
    "\n",
    "def resolve_param(path:str):\n",
    "    args={}\n",
    "    if path.find(\"?\") > 0:\n",
    "        str=path.split(\"?\")[1]\n",
    "        for entry in str.split(\"&\"):\n",
    "            kv = entry.split(\"=\")\n",
    "            args[kv[0]] = kv[1]\n",
    "        print('args:'+dumps(args))\n",
    "    return args\n",
    "class Handler(http.server.SimpleHTTPRequestHandler):\n",
    "    def do_GET(self):\n",
    "        args = resolve_param(self.path)\n",
    "        self.send_response(HTTPStatus.OK)\n",
    "        self.end_headers()\n",
    "        self.wfile.write(dumps(args).encode())\n",
    "\n",
    "port=8005\n",
    "httpd = socketserver.TCPServer(('', port), Handler)\n",
    "print(\"http://localhost:%i?a=1&b=2\" % port)\n",
    "httpd.serve_forever()\n"
   ]
  }
 ],
 "metadata": {
  "kernelspec": {
   "display_name": "Python 3 (ipykernel)",
   "language": "python",
   "name": "python3"
  },
  "language_info": {
   "codemirror_mode": {
    "name": "ipython",
    "version": 3
   },
   "file_extension": ".py",
   "mimetype": "text/x-python",
   "name": "python",
   "nbconvert_exporter": "python",
   "pygments_lexer": "ipython3",
   "version": "3.10.12"
  }
 },
 "nbformat": 4,
 "nbformat_minor": 5
}
